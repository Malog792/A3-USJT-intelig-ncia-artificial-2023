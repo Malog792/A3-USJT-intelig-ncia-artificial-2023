{
  "nbformat": 4,
  "nbformat_minor": 0,
  "metadata": {
    "colab": {
      "provenance": [],
      "authorship_tag": "ABX9TyO5HtZUkhDFObXRMizalr83",
      "include_colab_link": true
    },
    "kernelspec": {
      "name": "python3",
      "display_name": "Python 3"
    },
    "language_info": {
      "name": "python"
    }
  },
  "cells": [
    {
      "cell_type": "markdown",
      "metadata": {
        "id": "view-in-github",
        "colab_type": "text"
      },
      "source": [
        "<a href=\"https://colab.research.google.com/github/Malog792/A3-USJT-inteligencia-artificial-2023/blob/main/Entrega_Dia_26_10.ipynb\" target=\"_parent\"><img src=\"https://colab.research.google.com/assets/colab-badge.svg\" alt=\"Open In Colab\"/></a>"
      ]
    },
    {
      "cell_type": "markdown",
      "source": [
        "Nosso conjunto de dados é uma análise de filmes e séries avaliados no IMDB, que é uma base de dados online de informação sobre cinema e TV. O conjunto contém dados de aproximadamente 46000 filmes de 1874 a 2016, com seus códigos, título, ano de lançamento, classificação indicativa, duração do filme, gênero, diretor, roteirista, elenco, avaliação no IMDB, país de origem e o tipo, sendo ele filme ou série.\n",
        "A maior parte dos dados inclusos no conjunto são nomes e outras informações em texto, o que não seria possível para a IA realizar uma análise sendo que não existem valores a serem comparados. Visto que o intuito é realizar uma determinação da nota dos filmes de acordo com o diretor, o ano e o gênero, será necessário que esses mesmos dados tenham valores numéricos para serem comparados diretamente.\n",
        "Para uma análise melhor e mais precisa da nossa IA, utilizaremos apenas filmes a partir dos anos 2000, em torno de 23000, onde levaremos em consideração apenas as colunas, ano, gênero e diretor, onde converteremos a coluna gênero e diretor para números para assim podermos atribuir pesos diferentes para cada um com base da sua média dos filmes de acordo com o IMDB.\n",
        "O próprio IMDB realiza a avaliação das notas de filmes com valores em pontos flutuantes, visando manter esse padrão para facilitar e tornar o mais eficiente possível a análise da IA, manteremos esse tipo de dado, ou seja, float para as variáveis das colunas gênero e diretor, e int para as variáveis da coluna ano.\n"
      ],
      "metadata": {
        "id": "1S7nLp8YxOge"
      }
    }
  ]
}